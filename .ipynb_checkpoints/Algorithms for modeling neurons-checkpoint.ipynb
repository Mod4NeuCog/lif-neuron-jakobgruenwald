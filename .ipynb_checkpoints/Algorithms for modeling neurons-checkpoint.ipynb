{
 "cells": [
  {
   "cell_type": "markdown",
   "id": "4459a492-15a5-44f8-8d4c-4165860ead55",
   "metadata": {},
   "source": [
    "# Algorithms for modeling Neurons\n",
    "\n",
    "General info: **parameters** are written in all caps and **variables** in lower case"
   ]
  },
  {
   "cell_type": "markdown",
   "id": "9a46fb96-2e10-46e4-a902-04a0fc7e10fa",
   "metadata": {},
   "source": [
    "## 1. without IO\n",
    "\n",
    "without IO: it just assigns the initial membrane potential to the membrane potential, but doesn't return anything\n",
    "\n",
    "```\n",
    "Input: None \n",
    "Output: None\n",
    "\n",
    "Function Init():\n",
    "    float INITIAL_MEMBRANE_POTENTIAL = -55\n",
    "    \n",
    "Function updateMembranePotential():\n",
    "    float membrane_potential <- INITIAL_MEMBRANE_POTENTIAL\n",
    "    \n",
    "    \n",
    "\n",
    "Start\n",
    "    init()\n",
    "    updateMembranePotential()\n",
    "End\n",
    "```"
   ]
  },
  {
   "cell_type": "code",
   "execution_count": 9,
   "id": "81886ce0-ea8b-4a6d-bb49-11b71b868108",
   "metadata": {},
   "outputs": [
    {
     "name": "stdout",
     "output_type": "stream",
     "text": [
      "Nothing to see here.\n"
     ]
    }
   ],
   "source": [
    "INITIAL_MEMBRANE_POTENTIAL = -55\n",
    "\n",
    "def updateMembranePotential():\n",
    "    membrane_potential = INITIAL_MEMBRANE_POTENTIAL\n",
    "    print(\"Nothing to see here.\")\n",
    "\n",
    "updateMembranePotential()"
   ]
  },
  {
   "cell_type": "markdown",
   "id": "cda8e5a8-d80c-418b-8476-967ed608cb0c",
   "metadata": {},
   "source": [
    "# 2. with IO\n",
    "\n",
    "the sum of the initial membrane potential and the predefined input current is assigned to the membrane potential. Then the membrane potential is produced as output\n",
    "\n",
    "```\n",
    "Input: float INPUT_CURRENT\n",
    "Output: float membrane_potential\n",
    "\n",
    "Function Init():\n",
    "    float INITIAL_MEMBRANE_POTENTIAL = -55\n",
    "    float INPUT_CURRENT <- -15\n",
    "    \n",
    "Function updateMembranePotential():\n",
    "    membrane_potential <- INITIAL_MEMBRANE_POTENTIAL + INPUT_CURRENT\n",
    "    \n",
    "    return membrane_potential\n",
    "    \n",
    "    \n",
    "    \n",
    "Start\n",
    "    Init()\n",
    "    updateMembranePotential()\n",
    "End\n",
    "```"
   ]
  },
  {
   "cell_type": "code",
   "execution_count": 11,
   "id": "83ca5e1b-06de-4b23-b02c-1286399d845d",
   "metadata": {},
   "outputs": [
    {
     "data": {
      "text/plain": [
       "-70"
      ]
     },
     "execution_count": 11,
     "metadata": {},
     "output_type": "execute_result"
    }
   ],
   "source": [
    "INITIAL_MEMBRANE_POTENTIAL = -55\n",
    "INPUT_CURRENT = -15\n",
    "\n",
    "def updateMembranePotential():\n",
    "    membrane_potential = INITIAL_MEMBRANE_POTENTIAL + INPUT_CURRENT\n",
    "\n",
    "    return membrane_potential\n",
    "\n",
    "updateMembranePotential()"
   ]
  },
  {
   "cell_type": "markdown",
   "id": "fffe3614-e2c6-486c-80cb-6f19fb63df54",
   "metadata": {},
   "source": [
    "## 3. with IO and spike\n",
    "\n",
    "The same as before, but this also gives a Boolean output saying, whether a spike was present of not\n",
    "\n",
    "\n",
    "```\n",
    "Input: float INPUT_CURRENT\n",
    "Output: float membrane_potential, boolean spike\n",
    "\n",
    "Function Init():\n",
    "    float INITIAL_MEMBRANE_POTENTIAL = -55\n",
    "    float INPUT_CURRENT <- -15\n",
    "    float THRESHOLD <- -65\n",
    "    \n",
    "Function updateMembranePotential():\n",
    "    membrane_potential <- INITIAL_MEMBRANE_POTENTIAL + INPUT_CURRENT\n",
    "    \n",
    "    if membrane_potential <= THRESHOLD:\n",
    "        then spike <- True\n",
    "    \n",
    "    return membrane_potential, spike\n",
    "    \n",
    "    \n",
    "    \n",
    "Start\n",
    "    Init()\n",
    "    updateMembranePotential()\n",
    "End\n",
    "```"
   ]
  },
  {
   "cell_type": "code",
   "execution_count": 13,
   "id": "5de329dd-9ede-4794-9af5-71d70279cb6b",
   "metadata": {},
   "outputs": [
    {
     "data": {
      "text/plain": [
       "(-70, True)"
      ]
     },
     "execution_count": 13,
     "metadata": {},
     "output_type": "execute_result"
    }
   ],
   "source": [
    "INITIAL_MEMBRANE_POTENTIAL = -55\n",
    "INPUT_CURRENT = -15\n",
    "THRESHOLD = -65\n",
    "\n",
    "\n",
    "def updateMembranePotential():\n",
    "    membrane_potential = INITIAL_MEMBRANE_POTENTIAL + INPUT_CURRENT\n",
    "\n",
    "    if membrane_potential <= THRESHOLD:\n",
    "        spike = True\n",
    "    else:\n",
    "        spike = False\n",
    "\n",
    "    return membrane_potential, spike\n",
    "\n",
    "\n",
    "updateMembranePotential()"
   ]
  },
  {
   "cell_type": "markdown",
   "id": "9682fc30-2b4a-4367-bef4-7fe9dd6d5a5e",
   "metadata": {},
   "source": [
    "## 4. with console input\n",
    "\n",
    "The same as before, but the input current is defined by the user through a console input.\n",
    "\n",
    "\n",
    "```\n",
    "Input: float INPUT_CURRENT\n",
    "Output: float membrane_potential, boolean spike\n",
    "\n",
    "Function Init():\n",
    "    float INITIAL_MEMBRANE_POTENTIAL = -55\n",
    "    float INPUT_CURRENT <- get_console_input\n",
    "    float THRESHOLD <- -65\n",
    "    \n",
    "Function updateMembranePotential():\n",
    "    membrane_potential <- INITIAL_MEMBRANE_POTENTIAL + INPUT_CURRENT\n",
    "    \n",
    "    if membrane_potential <= THRESHOLD:\n",
    "        then spike <- True\n",
    "    \n",
    "    return membrane_potential, spike\n",
    "\n",
    "\n",
    "    \n",
    "Start\n",
    "    Init()\n",
    "    updateMembranePotential()\n",
    "End\n",
    "```"
   ]
  },
  {
   "cell_type": "code",
   "execution_count": 19,
   "id": "d1eb2021-d339-45df-ba8e-200549767e59",
   "metadata": {},
   "outputs": [
    {
     "name": "stdin",
     "output_type": "stream",
     "text": [
      "Enter your input current (in mV): -50\n"
     ]
    },
    {
     "data": {
      "text/plain": [
       "(-105.0, True)"
      ]
     },
     "execution_count": 19,
     "metadata": {},
     "output_type": "execute_result"
    }
   ],
   "source": [
    "INITIAL_MEMBRANE_POTENTIAL = -55\n",
    "THRESHOLD = -65\n",
    "INPUT_CURRENT = float(input('Enter your input current (in mV):'))\n",
    "\n",
    "def updateMembranePotential():\n",
    "    membrane_potential = INITIAL_MEMBRANE_POTENTIAL + INPUT_CURRENT\n",
    "\n",
    "    if membrane_potential <= THRESHOLD:\n",
    "        spike = True\n",
    "    else:\n",
    "        spike = False\n",
    "\n",
    "    return membrane_potential, spike\n",
    "\n",
    "\n",
    "\n",
    "updateMembranePotential()"
   ]
  },
  {
   "cell_type": "code",
   "execution_count": null,
   "id": "5a3e5c3d-9d08-456e-8ab1-0c125c0d1531",
   "metadata": {},
   "outputs": [],
   "source": []
  }
 ],
 "metadata": {
  "kernelspec": {
   "display_name": "Python 3 (ipykernel)",
   "language": "python",
   "name": "python3"
  },
  "language_info": {
   "codemirror_mode": {
    "name": "ipython",
    "version": 3
   },
   "file_extension": ".py",
   "mimetype": "text/x-python",
   "name": "python",
   "nbconvert_exporter": "python",
   "pygments_lexer": "ipython3",
   "version": "3.9.7"
  }
 },
 "nbformat": 4,
 "nbformat_minor": 5
}
